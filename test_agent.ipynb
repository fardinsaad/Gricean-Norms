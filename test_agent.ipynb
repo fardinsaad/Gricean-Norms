{
 "cells": [
  {
   "cell_type": "markdown",
   "id": "ea83d6a4-dcc2-4186-a7ac-7564c3c55b5d",
   "metadata": {},
   "source": [
    "# Environment setup\n",
    "## Reload and import agent.py"
   ]
  },
  {
   "cell_type": "code",
   "execution_count": 168,
   "id": "c46b8d7d-9fd4-47ad-8def-ba20dc20dfa9",
   "metadata": {},
   "outputs": [],
   "source": [
    "import importlib\n",
    "import agent\n",
    "importlib.reload(agent)\n",
    "from agent import Agent"
   ]
  },
  {
   "cell_type": "markdown",
   "id": "3f7b55b3-3354-4e92-9b4a-1ba899dc70dc",
   "metadata": {},
   "source": [
    "## Reload and import env_setup.py"
   ]
  },
  {
   "cell_type": "code",
   "execution_count": 169,
   "id": "494fbd67-6d1c-4100-aabb-26d7fd721afa",
   "metadata": {},
   "outputs": [],
   "source": [
    "import importlib\n",
    "import env_setup\n",
    "importlib.reload(env_setup)\n",
    "from env_setup import GridEnvironment"
   ]
  },
  {
   "cell_type": "markdown",
   "id": "36353e34",
   "metadata": {},
   "source": [
    "# Individual Instruction"
   ]
  },
  {
   "cell_type": "code",
   "execution_count": 170,
   "id": "656505a3-ac38-4d1e-975f-cd13f6793f07",
   "metadata": {},
   "outputs": [
    {
     "name": "stdout",
     "output_type": "stream",
     "text": [
      "W W W W r W W W\n",
      "y . m . . . . W\n",
      "W W . W W W W W\n",
      "g . . W W W W g\n",
      "W W h W W W W R\n",
      "g . . . . Y . .\n",
      "W W R W W W W W\n",
      "W W g W W W W W\n",
      "Instruction: Can you pass me a red key?\n",
      "Norm: No Violation. The instruction is clear, truthful, relevant, and unambiguous. The human wants to collect a gem that is likely behind a red door, hence the request for a red key. The grid contains a red key, so the instruction is valid.\n",
      "Response: I see a red key on the grid at position (0, 4). I will collect it and pass it to you. This will allow you to unlock a red door, presumably leading to your desired gem.\n"
     ]
    }
   ],
   "source": [
    "# Initialize the environment and agent\n",
    "env = GridEnvironment()\n",
    "name = \"23.txt\"  # Change this to the name of the grid file you want to load like \"1.txt\", \"2.txt\", etc.\n",
    "grid_file_path = env.get_grid_file_path(name)\n",
    "\n",
    "if grid_file_path:\n",
    "    env.load_grid_from_file(grid_file_path)\n",
    "    env.display_grid()\n",
    "\n",
    "# Get agent and object positions\n",
    "agent_pos = env.get_agent_position()\n",
    "grice = True\n",
    "object_pos = env. get_all_object_positions()\n",
    "\n",
    "# Initialize the agent\n",
    "my_agent = Agent(agent_pos)\n",
    "\n",
    "# Provide instructions and test the LLM\n",
    "instruction = \"Can you pass me a red key?\" # Change the instruction to test different cases\n",
    "response = my_agent.chain_of_thought_prompt(instruction, env.grid, grice, object_pos)\n",
    "print(response)\n"
   ]
  },
  {
   "cell_type": "markdown",
   "id": "bd7d306f",
   "metadata": {},
   "source": [
    "# Experiments"
   ]
  },
  {
   "cell_type": "markdown",
   "id": "f6a86e81",
   "metadata": {},
   "source": [
    "## Experiment 1: Norms"
   ]
  },
  {
   "cell_type": "code",
   "execution_count": 73,
   "id": "63c667fc",
   "metadata": {},
   "outputs": [],
   "source": [
    "import pandas as pd\n",
    "\n",
    "# Load the CSV file from the local directory\n",
    "csv_file_path = 'Norm_dataset.csv'  \n",
    "df = pd.read_csv(csv_file_path)\n",
    "#print(df.head())\n",
    "\n",
    "#num_rows = 1  # Adjust this to process 5 or 10 rows, or any other number\n",
    "#df_subset = df.head(num_rows)\n",
    "\n",
    "# Loop through each row, read the first and second columns, and generate the response\n",
    "for index, row in df.iterrows():\n",
    "    instruction = row.iloc[0]  \n",
    "    file_name = row.iloc[1]   \n",
    "\n",
    "\n",
    "    # Initialize the environment and agent for the single file\n",
    "    env = GridEnvironment()\n",
    "    grid_file_path = env.get_grid_file_path(file_name)\n",
    "\n",
    "    if grid_file_path:\n",
    "        env.load_grid_from_file(grid_file_path)\n",
    "        # env.display_grid()\n",
    "\n",
    "        # Get agent and object positions\n",
    "        agent_pos = env.get_agent_position()\n",
    "        grice = True\n",
    "        object_pos = env.get_all_object_positions()\n",
    "\n",
    "        # Initialize the agent\n",
    "        my_agent = Agent(agent_pos)\n",
    "\n",
    "        # Generate the response using the agent and instruction\n",
    "        response = my_agent.chain_of_thought_prompt(instruction, env.grid, grice, object_pos)\n",
    "        \n",
    "        # Append the generated response directly into the DataFrame\n",
    "        df.at[index, 'Generated_response'] = response\n",
    "\n",
    "# # After processing the subset, save the updated DataFrame to the CSV file\n",
    "df.to_csv(csv_file_path, index=False)"
   ]
  },
  {
   "cell_type": "markdown",
   "id": "976ac306",
   "metadata": {},
   "source": [
    "## Experiment 2: Without Norms"
   ]
  },
  {
   "cell_type": "code",
   "execution_count": 157,
   "id": "5794d8e0",
   "metadata": {},
   "outputs": [],
   "source": [
    "import pandas as pd\n",
    "\n",
    "# Load the CSV file from the local directory\n",
    "csv_file_path = 'Without_Norm_dataset.csv'  \n",
    "df = pd.read_csv(csv_file_path)\n",
    "\n",
    "num_rows = 2  # Adjust this to process 5 or 10 rows, or any other number\n",
    "df_subset = df.head(num_rows)\n",
    "\n",
    "# Loop through each row, read the first and second columns, and generate the response\n",
    "for index, row in df.iterrows():\n",
    "    instruction = row.iloc[0]  \n",
    "    file_name = row.iloc[1]   \n",
    "\n",
    "\n",
    "    # Initialize the environment and agent for the single file\n",
    "    env = GridEnvironment()\n",
    "    grid_file_path = env.get_grid_file_path(file_name)\n",
    "\n",
    "    if grid_file_path:\n",
    "        env.load_grid_from_file(grid_file_path)\n",
    "        # env.display_grid()\n",
    "\n",
    "        # Get agent and object positions\n",
    "        agent_pos = env.get_agent_position()\n",
    "        grice = False # Gricean reasoning is disabled\n",
    "        object_pos = env.get_all_object_positions()\n",
    "\n",
    "        # Initialize the agent\n",
    "        my_agent = Agent(agent_pos)\n",
    "\n",
    "        # Generate the response using the agent and instruction\n",
    "        response = my_agent.chain_of_thought_prompt(instruction, env.grid, grice, object_pos)\n",
    "        \n",
    "        # Append the generated response directly into the DataFrame\n",
    "        df.at[index, 'Generated_response'] = response\n",
    "\n",
    "# # After processing the subset, save the updated DataFrame to the CSV file\n",
    "df.to_csv(csv_file_path, index=False)"
   ]
  }
 ],
 "metadata": {
  "kernelspec": {
   "display_name": "Python 3 (ipykernel)",
   "language": "python",
   "name": "python3"
  },
  "language_info": {
   "codemirror_mode": {
    "name": "ipython",
    "version": 3
   },
   "file_extension": ".py",
   "mimetype": "text/x-python",
   "name": "python",
   "nbconvert_exporter": "python",
   "pygments_lexer": "ipython3",
   "version": "3.12.7"
  }
 },
 "nbformat": 4,
 "nbformat_minor": 5
}
